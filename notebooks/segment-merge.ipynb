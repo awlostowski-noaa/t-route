{
 "cells": [
  {
   "cell_type": "code",
   "execution_count": 1,
   "metadata": {},
   "outputs": [],
   "source": [
    "import os\n",
    "import sys\n",
    "import subprocess\n",
    "import glob\n",
    "import pathlib\n",
    "\n",
    "# logic to accomodate Google Colab\n",
    "try:\n",
    "    import google.colab\n",
    "\n",
    "    ENV_IS_CL = True\n",
    "\n",
    "    root = pathlib.Path(\"/content/t-route\").resolve()\n",
    "    subprocess.run(\n",
    "        [\n",
    "            \"git\",\n",
    "            \"clone\",\n",
    "            \"-b\",\n",
    "            \"segment-merge\",\n",
    "            \"https://github.com/awlostowski-noaa/t-route.git\",\n",
    "        ]\n",
    "    )\n",
    "\n",
    "    ! pip install geopandas\n",
    "    ! pip install zipfile\n",
    "    ! pip install us\n",
    "    ! pip install netcdf4\n",
    "    ! pip install progressbar\n",
    "\n",
    "except:\n",
    "    ENV_IS_CL = False\n",
    "    root = pathlib.Path(\"..\").resolve()\n",
    "\n",
    "fortran_source_dir = os.path.join(\n",
    "    root, \"src\", \"fortran_routing\", \"mc_pylink_v00\", \"MC_singleSeg_singleTS\"\n",
    ")\n",
    "sys.path.append(fortran_source_dir)\n",
    "routing_v02_dir = os.path.join(root, \"src\", \"python_routing_v02\")\n",
    "sys.path.append(routing_v02_dir)    \n",
    "sys.path.append(os.path.join(root, \"src\", \"python_framework_v02\"))\n",
    "sys.path.append(os.path.join(root, \"src\", \"python_framework_v01\"))\n",
    "\n",
    "fortran_source_dir = os.path.join(\n",
    "    root, \"src\", \"fortran_routing\", \"mc_pylink_v00\", \"MC_singleSeg_singleTS\"\n",
    ")\n",
    "sys.path.append(fortran_source_dir)\n",
    "routing_v02_dir = os.path.join(root, \"src\", \"python_routing_v02\")\n",
    "sys.path.append(routing_v02_dir)\n",
    "sys.path.append(os.path.join(root, \"src\", \"python_framework_v02\"))\n",
    "sys.path.append(os.path.join(root, \"src\", \"python_framework_v01\"))\n",
    "\n",
    "COMPILE_cython = False\n",
    "# ! This will definitely work in the Google Colab environment, though may not work\n",
    "# in your local envioronment.\n",
    "if COMPILE_cython:\n",
    "\n",
    "    subprocess.run(\n",
    "        [\"gfortran\", \"varPrecision.f90\", \"-c\", \"-o\", \"var_precision.o\", \"-O3\", \"-fPIC\"],\n",
    "        cwd=fortran_source_dir,\n",
    "    )\n",
    "    subprocess.run(\n",
    "        [\n",
    "            \"gfortran\",\n",
    "            \"MCsingleSegStime_f2py_NOLOOP.f90\",\n",
    "            \"-c\",\n",
    "            \"-o\",\n",
    "            \"mc_single_seg.o\",\n",
    "            \"-O3\",\n",
    "            \"-fPIC\",\n",
    "        ],\n",
    "        cwd=fortran_source_dir,\n",
    "    )\n",
    "    subprocess.run(\n",
    "        [\n",
    "            \"gfortran\",\n",
    "            \"pyMCsingleSegStime_NoLoop.f90\",\n",
    "            \"-c\",\n",
    "            \"-o\",\n",
    "            \"pymc_single_seg.o\",\n",
    "            \"-O3\",\n",
    "            \"-fPIC\",\n",
    "        ],\n",
    "        cwd=fortran_source_dir,\n",
    "    )\n",
    "\n",
    "    for obj_file in glob.glob(os.path.join(fortran_source_dir, \"*.o\")):\n",
    "        print(obj_file)\n",
    "        subprocess.run([\"cp\", obj_file, routing_v02_dir])\n",
    "\n",
    "    if ENV_IS_CL:\n",
    "        numpy_I = \"/usr/local/lib/python3.6/dist-packages/numpy/core/include\"\n",
    "        py_I = \"/usr/include/python3.6\"\n",
    "        py_lib = \"/usr/include/python3.6\"\n",
    "\n",
    "    else:\n",
    "        bin_exe = pathlib.Path(sys.executable)\n",
    "        virtual_env_path = bin_exe.parents[1]\n",
    "        py_lib = os.path.join(virtual_env_path, \"lib\")\n",
    "        numpy_I = os.path.join(\n",
    "            py_lib, \"python3.6\", \"dist-packages\", \"numpy\", \"core\", \"include\"\n",
    "        )\n",
    "        py_I = os.path.join(virtual_env_path, \"include\", \"python3.6m\")\n",
    "\n",
    "    subprocess.run(\n",
    "        [\n",
    "            \"cython\",\n",
    "            \"-3\",\n",
    "            \"-v\",\n",
    "            \"-p\",\n",
    "            \"--line-directives\",\n",
    "            \"-Wextra\",\n",
    "            \"--cleanup\",\n",
    "            \"3\",\n",
    "            \"mc_reach.pyx\",\n",
    "        ],\n",
    "        cwd=routing_v02_dir,\n",
    "    )\n",
    "    subprocess.run(\n",
    "        [\n",
    "            \"gcc\",\n",
    "            \"-pthread\",\n",
    "            \"-Wno-unused-result\",\n",
    "            \"-Wsign-compare\",\n",
    "            \"-DNDEBUG\",\n",
    "            \"-g\",\n",
    "            \"-fwrapv\",\n",
    "            \"-O3\",\n",
    "            \"-fno-strict-aliasing\",\n",
    "            \"-Wall\",\n",
    "            \"-Wstrict-prototypes\",\n",
    "            \"-fPIC\",\n",
    "            \"-I\",\n",
    "            numpy_I,\n",
    "            \"-I\",\n",
    "            py_I,\n",
    "            \"-c\",\n",
    "            \"mc_reach.c\",\n",
    "            \"-o\",\n",
    "            \"mc_reach.o\",\n",
    "        ],\n",
    "        cwd=routing_v02_dir,\n",
    "    )\n",
    "    subprocess.run(\n",
    "        [\n",
    "            \"gcc\",\n",
    "            \"-pthread\",\n",
    "            \"-shared\",\n",
    "            \"-L\",\n",
    "            py_lib,\n",
    "            \"var_precision.o\",\n",
    "            \"mc_single_seg.o\",\n",
    "            \"pymc_single_seg.o\",\n",
    "            \"mc_reach.o\",\n",
    "            \"-lgfortran\",\n",
    "            \"-o\",\n",
    "            \"mc_reach.cpython-36m-x86_64-linux-gnu.so\",\n",
    "        ],\n",
    "        cwd=routing_v02_dir,\n",
    "    )\n",
    "\n",
    "# load needed scientific libraries\n",
    "import pandas as pd\n",
    "import geopandas as gpd\n",
    "import matplotlib.pyplot as plt\n",
    "from itertools import chain\n",
    "import requests\n",
    "import zipfile\n",
    "import io\n",
    "import us\n",
    "import time\n",
    "\n",
    "# turn off warnings\n",
    "import warnings\n",
    "warnings.simplefilter(\"ignore\")\n",
    "\n",
    "# import t-route functions for network analysis\n",
    "import nhd_network_utilities_v02 as nnu\n",
    "import nhd_io\n",
    "import nhd_network\n",
    "import mc_reach\n",
    "import network_dl\n",
    "import nhd_network_augment as network_aug\n"
   ]
  },
  {
   "cell_type": "markdown",
   "metadata": {},
   "source": [
    "# Notebook overview\n",
    "This notebook illustrates a scheme developed by the National Water Center's Inland Hydraulics Group to limit the number of short stream segments in the NHDPlus data set. The cells below illustrate the application of python functions developed to prune and merge the NHDPlus network. Three realizations of the NHDPlus network are created: 1) native (as-is), 2) merged (short segments combined adjacent segments to make longer ones), and 3) a pruned and merged (merged, plus short headwater segments are removed from the network). We then conduct Muskingum-Cunge routing simulations to each of the network realizations and assess differences/similarities in simulated flows between networks. Preliminary results illustrate the pruning and merging short segments speeds up the wall clock timing of network-scale routing models, but affects the timing and shape of simulated flood waves, compared to simulations conducted on the native NHDPlus network.  \n"
   ]
  },
  {
   "cell_type": "markdown",
   "metadata": {},
   "source": [
    "# Notebook domain: The Cape Fear River Basin, North Carolina\n",
    "For this proof of concept, the model domain is restricted to the Cape Fear River Basin, North Carolina. The Cape Fear River flows from west to east, orginiating in North Carolina's Piedmont region and terminating in the Atlantic Ocean at Southport North Carolina. The Cape Fear is used extensively for commercial transportation, water supply (municipal and industrial), commercial fishing, and recreation. Additionally the river poses a flood hazard to two major port cities: Wilmington and Southport. In Southport, where the river debauches into the ocean, tidal storm surge dynamics complicate the timing, magnitude, and extent of flood conditions during hurricanes and tropical storms. \n"
   ]
  },
  {
   "cell_type": "markdown",
   "metadata": {},
   "source": [
    "## Loading, masking and preparing NHDPlus data for analysis\n",
    "The cell below loads route-link data for the CONUS full-resolution NHDPlus network. The route-link dataset contains critical channel geometry and roughness parameters for every segment in the NHDPlus network. Moreover, the dataset contains connectivity data, specifically the destination segment of segment in the network (i.e. into which segment each segment flows). These data are then masked to extract only segments located within the Cape Fear River Basin, and prepared for further network analysis by selecting only those data attributes needed, here. A copy of the network data is retained for visualization purposes. "
   ]
  },
  {
   "cell_type": "code",
   "execution_count": 2,
   "metadata": {},
   "outputs": [
    {
     "name": "stdout",
     "output_type": "stream",
     "text": [
      "NHD data loaded, masked, and prepped\n"
     ]
    }
   ],
   "source": [
    "\n",
    "# Create directory path variable for test/input/geo, where NHD data and masks are stored\n",
    "test_folder = os.path.join(root, r\"test\")\n",
    "geo_input_folder = os.path.join(test_folder, r\"input\", r\"geo\")\n",
    "\n",
    "# Load network meta data for the Cape Fear Basin\n",
    "supernetwork = \"CapeFear_FULL_RES\"\n",
    "network_data = nnu.set_supernetwork_data(\n",
    "    supernetwork=supernetwork, geo_input_folder=geo_input_folder\n",
    ")\n",
    "\n",
    "# if the NHDPlus RouteLink file does not exist, download it.\n",
    "if not os.path.exists(network_data[\"geo_file_path\"]):\n",
    "    filename = os.path.basename(network_data[\"geo_file_path\"])\n",
    "    network_dl.download(network_data[\"geo_file_path\"], network_data[\"data_link\"])\n",
    "\n",
    "# read-in NHD data, retain copies for viz- and full network analysis purposes\n",
    "data = nhd_io.read(network_data[\"geo_file_path\"]) \n",
    "data_full = data.copy() # copy of full resolution CONUS network\n",
    "dat_geo = data.copy() # copy for graphical purposes\n",
    "\n",
    "# select only the necessary columns needed for network analysis and computation\n",
    "cols = [v for c, v in network_data.items() if c.endswith(\"_col\")]\n",
    "data = data[cols]\n",
    "\n",
    "# set the Data Frame index (row labels) to the key column - \"featureID\"\n",
    "data = data.set_index(network_data[\"key_col\"])\n",
    "dat_geo = dat_geo.set_index(network_data[\"key_col\"])\n",
    "\n",
    "# mask NHDNetwork to isolate test network - full resolution Cape Fear basin, NC\n",
    "if \"mask_file_path\" in network_data:\n",
    "    data_mask = nhd_io.read_mask(\n",
    "        network_data[\"mask_file_path\"], layer_string=network_data[\"mask_layer_string\"],\n",
    "    )\n",
    "    data = data.filter(data_mask.iloc[:, network_data[\"mask_key\"]], axis=0)\n",
    "    dat_geo = dat_geo.filter(data_mask.iloc[:, network_data[\"mask_key\"]], axis=0)\n",
    "\n",
    "# sort data by index\n",
    "data = data.sort_index()\n",
    "\n",
    "# replace downstreams for terminal segments\n",
    "data = nhd_io.replace_downstreams(data, network_data[\"downstream_col\"], 0)\n",
    "\n",
    "print(\"NHD data loaded, masked, and prepped\")\n"
   ]
  },
  {
   "cell_type": "markdown",
   "metadata": {},
   "source": [
    "## Visualize the Cape Fear River Basin with a map \n",
    "The cell below creates a GeoDataFrame of points from the route-link data. Each point corresponds to a specific stream segment in the network. A shapefile of North Carolina's state boundaries are imported, unzipped, and saved. Finally, a simple map displaying each segment of the network and state boarders is created and saved. "
   ]
  },
  {
   "cell_type": "code",
   "execution_count": 3,
   "metadata": {},
   "outputs": [
    {
     "data": {
      "image/png": "[encoded data removed]",
      "text/plain": [
       "<Figure size 720x1080 with 1 Axes>"
      ]
     },
     "metadata": {
      "needs_background": "light"
     },
     "output_type": "display_data"
    }
   ],
   "source": [
    "# create a pandas GeoDataFrame for viz purposes\n",
    "gdf = gpd.GeoDataFrame(dat_geo, geometry=gpd.points_from_xy(dat_geo.lon, dat_geo.lat))\n",
    "\n",
    "################################################\n",
    "# Download North Carolina shapefile for basemap\n",
    "################################################\n",
    "shape_url = us.states.NC.shapefile_urls()[\"state\"]\n",
    "local_path = \"../test/input/geo/NorthCarolina_state_shape\"\n",
    "\n",
    "# Download and extract shapefile\n",
    "r = requests.get(shape_url)\n",
    "z = zipfile.ZipFile(io.BytesIO(r.content))\n",
    "z.extractall(path=local_path)\n",
    "\n",
    "# get extracted filenames\n",
    "filenames = [\n",
    "    y\n",
    "    for y in sorted(z.namelist())\n",
    "    for ending in [\"dbf\", \"prj\", \"shp\", \"shx\"]\n",
    "    if y.endswith(ending)\n",
    "]\n",
    "dbf, prj, shp, shx = [filename for filename in filenames]\n",
    "\n",
    "# load shapefile with GeoPandas\n",
    "nc = gpd.read_file(local_path + \"/\" + shp)\n",
    "\n",
    "################################################\n",
    "# Create a map\n",
    "################################################\n",
    "\n",
    "# create a basemap\n",
    "base = nc.plot(color=\"white\", edgecolor=\"black\")\n",
    "\n",
    "# add our stream network, segments are represented as small points (nodes in the network)\n",
    "gdf.plot(ax=base, markersize=0.01, color=\"black\")\n",
    "\n",
    "# crop the map extent\n",
    "base.set_xlim(-85, -75)\n",
    "base.set_ylim(33, 37)\n",
    "\n",
    "# turn axes off\n",
    "base.axis(\"off\")\n",
    "\n",
    "# get current figure and set size\n",
    "fig = plt.gcf()\n",
    "fig.set_size_inches(10, 15)\n",
    "\n",
    "# add a title and display\n",
    "plt.title(\"Cape Fear River Basin - NHDPlus full resolution\", fontsize=20)\n",
    "\n",
    "# display and save the map\n",
    "plt.show()\n",
    "fig.savefig(\"../doc/cape_fear_network.png\", bbox_inches='tight')\n"
   ]
  },
  {
   "cell_type": "markdown",
   "metadata": {},
   "source": [
    "## Short segments dominate segment length distributions\n",
    "The cell below creates histogram plots showing the distribution of segment lengths in Cape Fear and CONUS domains of the NHDPlus network. \n",
    "- Distributions are heavily skewed to the right, with modal segment length of 1 meter. \n",
    "- 37% of all segments in the CONUS domain are shorter than 1 km, 16% are shorter than 300 meters.\n",
    "- 53% of all segments in the Cape Fear domain are shorter than 1 km, 27% are shorter than 300 meters. "
   ]
  },
  {
   "cell_type": "code",
   "execution_count": 4,
   "metadata": {},
   "outputs": [
    {
     "data": {
      "image/png": "[encoded data removed]",
      "text/plain": [
       "<Figure size 432x288 with 1 Axes>"
      ]
     },
     "metadata": {
      "needs_background": "light"
     },
     "output_type": "display_data"
    },
    {
     "data": {
      "image/png": "[encoded data removed]",
      "text/plain": [
       "<Figure size 432x288 with 1 Axes>"
      ]
     },
     "metadata": {
      "needs_background": "light"
     },
     "output_type": "display_data"
    }
   ],
   "source": [
    "filenames = [\"nhd_fullres_capefear_length_distribution.png\", \n",
    "             \"nhd_fullres_conus_length_distribution.png\"]\n",
    "\n",
    "titles = [\"Cape Fear\",\n",
    "         \"CONUS\"]\n",
    "\n",
    "for i, df in enumerate((data, data_full), 0):\n",
    "    \n",
    "    if i == 1:\n",
    "        df.Length.hist(bins = 500)\n",
    "    else:\n",
    "        df.Length.hist(bins = 100)\n",
    "    \n",
    "    ax = plt.gca()\n",
    "    ax.set_ylabel(\"Frequency\", size=14)\n",
    "    ax.set_xlabel(\"Segment Length (m)\", size=14)\n",
    "    plt.title(titles[i], fontsize=20)\n",
    "    plt.xlim([0,14000])\n",
    "    \n",
    "    fig = plt.gcf()\n",
    "\n",
    "    plt.show()\n",
    "    fig.savefig(\"../doc/\" + filenames[i], bbox_inches='tight')\n"
   ]
  },
  {
   "cell_type": "markdown",
   "metadata": {},
   "source": [
    "# What do we mean by short? Define a threshold segment length\n",
    "Before we go about pruning and merging the network to create new realizations, we must define what we mean by \"short\". In the cell below, define the threshold length (m), below which segments will be considered too short."
   ]
  },
  {
   "cell_type": "code",
   "execution_count": 5,
   "metadata": {},
   "outputs": [],
   "source": [
    "thresh = 300"
   ]
  },
  {
   "cell_type": "markdown",
   "metadata": {},
   "source": [
    "# Pruning headwater segments\n",
    "Headwater segments are defined as having no upstream connections. By pruning, we seek to remove headwater segments that are shorter than the threshold length and flow directly into a junction. The basic logic behind the pruning routine is as follows:\n",
    "\n",
    "1. Identify all headwater-headwater junctions (i.e. junctions where two headwater segments merge together)\n",
    "2. Is the shortest headwater segment flowing into the junction shorter than the threshold? \n",
    "    - if yes: prune the shortest headwater\n",
    "    - if no: do nothing\n",
    "3. Identify all headwater-midwater junctions (i.e junctions where a headwater segment merges with a non-headwater segment)\n",
    "4. Is the headwater segment flowing into the junction shorter shorter than the threshold?\n",
    "    - if yes: prune the headwater\n",
    "    - if no: Are either of the midwater segments above or below the junction shorter than the threshold?\n",
    "        - if yes: prune the headwater\n",
    "        - if no: do nothing\n",
    "        \n",
    "The cell below conducts pruning in two steps. First, each segment in the network is classified as being either a headwater or non-headwater. Downstream connection dictionaries are created for headwaters and non-headwaters. Second, headwaters are pruned according the logic above, provided a user defined length threshold (see previous cell). "
   ]
  },
  {
   "cell_type": "code",
   "execution_count": 10,
   "metadata": {},
   "outputs": [
    {
     "name": "stdout",
     "output_type": "stream",
     "text": [
      "Pruning headwaters...\n",
      "Done pruning! Removed 762 headwater segments, or 1045  river km, from the network.\n",
      "That is 5 % of the total network length, and 18 % of segments shorter than the threshold.\n"
     ]
    }
   ],
   "source": [
    "# identify headwater and non-headwater (midwater) reaches (that also have a downstream connection)\n",
    "hw_conn, non_hw_conn = network_aug.headwater_connections(data, \n",
    "                                                         network_data)\n",
    "\n",
    "# Prune the network\n",
    "print(\"Pruning headwaters...\")\n",
    "\n",
    "pruned_headwaters, data_pruned = network_aug.prune_headwaters(hw_conn, \n",
    "                                                              non_hw_conn, \n",
    "                                                              data, \n",
    "                                                              thresh)\n",
    "\n",
    "print(\n",
    "    \"Done pruning! Removed\",\n",
    "    len(pruned_headwaters),\n",
    "    \"headwater segments, or\",\n",
    "    int(data.loc[pruned_headwaters].Length.sum() / 1000),\n",
    "    \" river km, from the network.\",\n",
    ")\n",
    "print(\n",
    "    \"That is\",\n",
    "    int((data.loc[pruned_headwaters].Length.sum() / data.Length.sum()) * 100),\n",
    "    \"% of the total network length and\",\n",
    "    int(len(data.loc[pruned_headwaters]) / len(data[data.Length < thresh]) * 100),\n",
    "    \"% of segments shorter than the threshold.\"\n",
    ")\n"
   ]
  },
  {
   "cell_type": "markdown",
   "metadata": {},
   "source": [
    "# Merge short segments with adjacent segments\n",
    "Another way to avoid the ubiquity of short segments is to merge them with adjacent segments, creating longer segments. This is done by first parsing the network into reaches (linear combinations of segments between junctions). For each reach, we then identify segments shorter than the threshold length. Short segments are merged with adjacent segments until a) no one segment in the reach is shorter than the threshold, or b) no segments are left to merge (i.e. the reach is composed of a single short segment). \n",
    "\n",
    "Once a segment is merged with its neighbor, we must determine its new geometric properties. There are many ways to do this, but for the time being we use a length-weighted average approach. For example, the bottom width of the newly merged segment is the length weighted average of the bottom width of the segments merged together.   \n",
    "\n",
    "Likewise, we must appoint newly merged segments an index (link ID). As a rule, newly merged segments carry the index (link ID) of the downstream-most segment involved in the merger. So, if segment A (link ID = 0001) is merged with downstream segment B (link ID = 0002), the newly created segment with have a link ID of 0002. Once new link IDs are appointed, network connections are updated. Following the example, segment A's link ID no longer exists after the merger. So, any segments previously flowing into segment A, now flow into segment B. \n",
    "\n",
    "The cell below conducts the merging routine for the native NHDPlus network and pruned NHDPlus network, resulting in the creation of a merged network and a pruned and merged network. "
   ]
  },
  {
   "cell_type": "code",
   "execution_count": 11,
   "metadata": {},
   "outputs": [
    {
     "name": "stdout",
     "output_type": "stream",
     "text": [
      "Merging segments in native NHDPlus Full Res data...\n",
      "Merging complete, that took 1.13 minutes\n",
      "Merging segments in pruned NHDPlus Full Res data...\n",
      "Merging complete, that took 1.11 minutes\n"
     ]
    }
   ],
   "source": [
    "##################################################\n",
    "# Merge segments in native network\n",
    "##################################################\n",
    "print(\"Merging segments in native NHDPlus Full Res data...\")\n",
    "ts = time.time()\n",
    "data_merged, qlat_dest_merged = network_aug.segment_merge(data,\n",
    "                                              data,\n",
    "                                              network_data,\n",
    "                                              thresh,\n",
    "                                              pruned_segments = [])\n",
    "tf = time.time()\n",
    "print(\"Merging complete, that took\", round((tf - ts)/60, 2), \"minutes\")\n",
    "\n",
    "##################################################\n",
    "# Merge segents in pruned network\n",
    "##################################################\n",
    "print(\"Merging segments in pruned NHDPlus Full Res data...\")\n",
    "ts = time.time()\n",
    "data_pruned_merged, qlat_dest_pruned_merged = network_aug.segment_merge(data,\n",
    "                                                            data_pruned,\n",
    "                                                            network_data,\n",
    "                                                            thresh,\n",
    "                                                            pruned_segments = pruned_headwaters)\n",
    "tf = time.time()\n",
    "print(\"Merging complete, that took\", round((tf - ts)/60, 2), \"minutes\")"
   ]
  },
  {
   "cell_type": "markdown",
   "metadata": {},
   "source": [
    "## Segment (pruning and) merging removes *most* of the short segments\n",
    "The cell below creates segment length histograms for each of the three network realizations created above. The x-axis of each histogram is restricted to < 1000 meters to emphasize differences on the left end of the segment length distribution. Clearly, the pruning and merging processes reduce the number of segments shorter than the threshold length. For a threshold length of 300 meters:\n",
    "\n",
    "- The native network contained 4077 segments shorter than 300 meters\n",
    "- The merged network contains only 1100 segments shorter than 300 meters\n",
    "- The pruned/merged network contains only 342 segments shorter than 300 meters\n",
    "\n",
    "Why do some short segments still remain? Remaining short segments are \"orphaned\" single-segment reaches shorter than the threshold length. Recall that reaches are linear combinations of segments *between two junctions*. If a reach is only composed of one segment, and that segment is short, there is nothing we can do about it without changing the orientation of junctions (e.g. snapping two junction points together). \n",
    "\n",
    "The pruned/merged network contains the fewest number of short segments because the logic controlling headwater trimming aims to limit the number of orphaned short single-segment reaches. Recall that a headwater is trimmed if is longer than the threshold length and the midwater segments flowing into or out of the junction are shorter than the threshold. This logic ends up removing one of the junctions that would otherwise constrain a short single segment reach."
   ]
  },
  {
   "cell_type": "code",
   "execution_count": 20,
   "metadata": {},
   "outputs": [
    {
     "data": {
      "image/png": "[encoded data removed]",
      "text/plain": [
       "<Figure size 432x288 with 1 Axes>"
      ]
     },
     "metadata": {
      "needs_background": "light"
     },
     "output_type": "display_data"
    },
    {
     "data": {
      "image/png": "[encoded data removed]",
      "text/plain": [
       "<Figure size 432x288 with 1 Axes>"
      ]
     },
     "metadata": {
      "needs_background": "light"
     },
     "output_type": "display_data"
    },
    {
     "data": {
      "image/png": "[encoded data removed]",
      "text/plain": [
       "<Figure size 432x288 with 1 Axes>"
      ]
     },
     "metadata": {
      "needs_background": "light"
     },
     "output_type": "display_data"
    }
   ],
   "source": [
    "filenames = [\"capefear_native_length_distribution.png\", \n",
    "             \"capefear_merged_length_distribution.png\",\n",
    "             \"capefear_pruned_merged_length_distribution.png\"]\n",
    "\n",
    "titles = [\"native network\",\n",
    "         \"merged_network\",\n",
    "         \"pruned/merged network\"]\n",
    "\n",
    "for i, df in enumerate((data, data_merged, data_pruned_merged), 0):\n",
    "    \n",
    "    df.Length.hist(bins = 100, range = [0,1000])\n",
    "    \n",
    "    ax = plt.gca()\n",
    "    ax.set_ylabel(\"Frequency\", size=14)\n",
    "    ax.set_xlabel(\"Segment Length (m)\", size=14)\n",
    "    \n",
    "    plt.title(titles[i], fontsize=20)\n",
    "\n",
    "    fig = plt.gcf()\n",
    "\n",
    "    plt.show()\n",
    "    fig.savefig(\"../doc/\" + filenames[i], bbox_inches='tight')\n"
   ]
  },
  {
   "cell_type": "markdown",
   "metadata": {},
   "source": [
    "# How does pruning and merging affect routing simulations?\n",
    "Ok - so we've create new realizations of the NHDPlus network for the Cape Fear River Basin, so what? Below, we test how new network realizations affect flood routing simulations. We assess how the merged and pruned/merged networks affect wall-clock times and flood wave dynamics, relative to the native network. "
   ]
  },
  {
   "cell_type": "markdown",
   "metadata": {},
   "source": [
    "## Simulation time domain\n",
    "We will set up a 150 day routing simulation with 1-hour timesteps (3600 seconds). Additionally, we specify four locations to compare flow simulations. "
   ]
  },
  {
   "cell_type": "code",
   "execution_count": null,
   "metadata": {},
   "outputs": [],
   "source": [
    "# number of simulated timesteps\n",
    "nts = 3600\n",
    "\n",
    "# duration of each timestep (seconds)\n",
    "dt = 3600\n",
    "\n",
    "# specific sites at which to analyze results\n",
    "sites = {\"Southport\": 8835402,\n",
    "         \"Wilmington\": 10529081,\n",
    "         \"Elizabethtown\": 8831808,\n",
    "         \"Lillington\": 8846907}"
   ]
  },
  {
   "cell_type": "markdown",
   "metadata": {},
   "source": [
    "## A function to build an artificial lateral inflow series"
   ]
  },
  {
   "cell_type": "code",
   "execution_count": null,
   "metadata": {},
   "outputs": [],
   "source": [
    "def step_qlats(data, nsteps, qlat):\n",
    "\n",
    "    ##################################################\n",
    "    # Create lateral inflow series, repeat on every \n",
    "    # segment in the network\n",
    "    ##################################################\n",
    "        \n",
    "    q1 = np.full((len(data.index), nsteps // 10), 0, dtype=\"float32\")\n",
    "    q2 = np.full((len(data.index), nsteps // 10), qlat, dtype=\"float32\")\n",
    "    q3 = np.full((len(data.index), nsteps // 10), qlat, dtype=\"float32\")\n",
    "    q4 = np.full((len(data.index), nsteps // 10), 0, dtype=\"float32\")\n",
    "    q5 = np.full((len(data.index), nsteps // 10), 0, dtype=\"float32\")\n",
    "    q6 = np.full((len(data.index), nsteps // 10), 0, dtype=\"float32\")\n",
    "    q7 = np.full((len(data.index), nsteps // 10), 0, dtype=\"float32\")\n",
    "    q8 = np.full((len(data.index), nsteps // 10), 0, dtype=\"float32\")\n",
    "    q9 = np.full((len(data.index), nsteps // 10), 0, dtype=\"float32\")\n",
    "    q10 = np.full((len(data.index), nsteps // 10), 0, dtype=\"float32\")\n",
    "\n",
    "    q = np.concatenate((q1, q2, q3, q4, q5, q6, q7, q8, q9, q10), axis=1)\n",
    "\n",
    "    ql = pd.DataFrame(q, index=data.index, columns=range(nsteps))\n",
    "    \n",
    "    return ql"
   ]
  },
  {
   "cell_type": "markdown",
   "metadata": {},
   "source": [
    "## A function to incorporate lateral inflows from merged/pruned segments into next downstream segment"
   ]
  },
  {
   "cell_type": "code",
   "execution_count": null,
   "metadata": {},
   "outputs": [],
   "source": [
    "def qlat_merger_adjust(ql, ql_destinations):\n",
    "    \n",
    "    ql_merged = ql.copy()\n",
    "    \n",
    "    for i, (seg, dest) in enumerate(ql_destinations.items()):\n",
    "        \n",
    "        # add lateral inflows from pruned/merged segment to downstream destination\n",
    "        series = ql_merged.loc[[seg, dest[0]]].sum(axis = 0)\n",
    "        series.name = dest[0]\n",
    "        \n",
    "        ql_merged.loc[dest] = pd.DataFrame(series).T\n",
    "     \n",
    "    # drop pruned/merged segments\n",
    "    ql_merged = ql_merged.drop(ql_destinations.keys())\n",
    "    \n",
    "    return ql_merged"
   ]
  },
  {
   "cell_type": "markdown",
   "metadata": {},
   "source": [
    "## Build lateral inflow data for each network realization"
   ]
  },
  {
   "cell_type": "code",
   "execution_count": null,
   "metadata": {},
   "outputs": [],
   "source": [
    "# create the native lateral inflow data\n",
    "qlat_native = step_qlats(data, nts, 10.0)\n",
    "\n",
    "# adjust lateral inflows data to account for pruning and merging\n",
    "qlat_merged = qlat_merger_adjust(qlat_native, qlat_dest_merged)\n",
    "qlat_pruned_merged = qlat_merger_adjust(qlat_native, qlat_dest_pruned_merged)\n",
    "\n",
    "# plot lateral inflow series\n",
    "qlat_native.iloc[1].plot(color=\"r\", linewidth=2)\n"
   ]
  },
  {
   "cell_type": "markdown",
   "metadata": {},
   "source": [
    "## Plot lateral inflow series for single segment"
   ]
  },
  {
   "cell_type": "code",
   "execution_count": null,
   "metadata": {},
   "outputs": [],
   "source": [
    "ax = plt.gca()\n",
    "ax.set_title(\"Lateral Inflow Loading\", size=20)\n",
    "ax.set_ylabel(\"Lateral Inflow (cms per segment)\", size=14)\n",
    "ax.set_xlabel(\"Simulated Timestep\", size=14)\n",
    "\n",
    "fig = plt.gcf()\n",
    "plt.show()\n",
    "fig.savefig(\"../doc/lateral_inflow_series.png\", bbox_inches='tight')"
   ]
  },
  {
   "cell_type": "markdown",
   "metadata": {},
   "source": [
    "## A function to execute network simulations with Muskingum-Cunge routing model"
   ]
  },
  {
   "cell_type": "code",
   "execution_count": null,
   "metadata": {},
   "outputs": [],
   "source": [
    "def simulate_network(tail_water, data, dt, nts, qlats, network_data):\n",
    "    \n",
    "    # extract connections and build reaches\n",
    "    conn, rconn = network_aug.network_connections(data, network_data)\n",
    "    subreachable, subreaches = network_aug.build_reaches(rconn)\n",
    "    \n",
    "    # initialize a list to store results\n",
    "    results = []\n",
    "    \n",
    "    # create a list of individual segments in the network\n",
    "    reach = subreaches[tail_water]\n",
    "    r = list(filter(None, chain.from_iterable(reach)))\n",
    "    \n",
    "    # add a dt column to the data DataFrame\n",
    "    data[\"dt\"] = dt\n",
    "\n",
    "    # rename columns to specific variable names expected by mc_reach.compute_network\n",
    "    column_rename = {\n",
    "        network_data[\"length_col\"]: \"dx\",\n",
    "        network_data[\"topwidth_col\"]: \"tw\",\n",
    "        network_data[\"topwidthcc_col\"]: \"twcc\",\n",
    "        network_data[\"bottomwidth_col\"]: \"bw\",\n",
    "        network_data[\"manningncc_col\"]: \"ncc\",\n",
    "        network_data[\"slope_col\"]: \"s0\",\n",
    "        network_data[\"ChSlp_col\"]: \"cs\",\n",
    "        network_data[\"manningn_col\"]: \"n\",\n",
    "    }\n",
    "\n",
    "    data = data.rename(columns=column_rename)\n",
    "\n",
    "    # change variables to type float32, as expected by mc_reach.compute_network\n",
    "    data = data.astype(\"float32\")\n",
    "\n",
    "    # prep parameter and lateral inflow data to be fed to routing model\n",
    "    data_sub = data.loc[\n",
    "        r, [\"dt\", \"bw\", \"tw\", \"twcc\", \"dx\", \"n\", \"ncc\", \"cs\", \"s0\"]\n",
    "    ].sort_index()\n",
    "    \n",
    "    # !!! something strange is happening, here\n",
    "    qlat_sub = qlats.loc[r].sort_index()\n",
    "    \n",
    "    print(\"Total lateral inflows:\",qlat_sub.sum().sum())\n",
    "\n",
    "    # compute the network routing, calculate (flow, depth, and velocity)\n",
    "    start_time = time.time()\n",
    "    results.append(\n",
    "        mc_reach.compute_network(\n",
    "            nts,\n",
    "            reach,\n",
    "            subnets[tail_water],\n",
    "            data_sub.index.values.astype(\"int64\"),\n",
    "            data_sub.columns.values,\n",
    "            data_sub.values,\n",
    "            qlat_sub.values,\n",
    "        )\n",
    "    )\n",
    "    end_time = time.time()\n",
    "    \n",
    "    # simulation time\n",
    "    timing = end_time - start_time\n",
    "    \n",
    "    # create a multi-index DataFrame with flow, depth, and velocity simulations\n",
    "    fdv_columns = pd.MultiIndex.from_product([range(nts), [\"q\", \"v\", \"d\"]])\n",
    "    flowveldepth = pd.concat(\n",
    "        [pd.DataFrame(d, index=i, columns=fdv_columns) for i, d in results], copy=False\n",
    "    )\n",
    "    flowveldepth = flowveldepth.sort_index()\n",
    "\n",
    "    return flowveldepth, timing, qlat_sub\n",
    "    "
   ]
  },
  {
   "cell_type": "markdown",
   "metadata": {},
   "source": [
    "## Run routing simulation on each network realization"
   ]
  },
  {
   "cell_type": "code",
   "execution_count": null,
   "metadata": {},
   "outputs": [],
   "source": [
    "tw = 8835402\n",
    "\n",
    "print(\"Simulating the native network\")\n",
    "flowveldepth_native, timing, qlat_sub = simulate_network(tw, \n",
    "                                                         data, \n",
    "                                                         dt, \n",
    "                                                         nts, \n",
    "                                                         qlat_native, \n",
    "                                                         network_data)\n",
    "print(\"Simulation complete, that took\", round((timing)/60, 2), \"minutes\")\n",
    "\n",
    "print(\"Simulating the merged network\")\n",
    "flowveldepth_merged, timing, qlat_sub = simulate_network(tw, \n",
    "                                                         data_merged, \n",
    "                                                         dt, \n",
    "                                                         nts, \n",
    "                                                         qlat_merged, \n",
    "                                                         network_data)\n",
    "print(\"Simulation complete, that took\", round((timing)/60, 2), \"minutes\")\n",
    "\n",
    "print(\"Simpulating the pruned and merged network\")\n",
    "flowveldepth_pruned_merged, timing, qlat_sub_pruned_merged = simulate_network(tw, \n",
    "                                                                              data_pruned_merged, \n",
    "                                                                              dt, \n",
    "                                                                              nts, \n",
    "                                                                              qlat_pruned_merged, \n",
    "                                                                              network_data)\n",
    "print(\"Simulation complete, that took\", round((timing)/60, 2), \"minutes\")"
   ]
  },
  {
   "cell_type": "markdown",
   "metadata": {},
   "source": [
    "## Visualize simulation on the native NHDPlus network with gif animation"
   ]
  },
  {
   "cell_type": "code",
   "execution_count": null,
   "metadata": {},
   "outputs": [],
   "source": [
    "import gif\n",
    "from mpl_toolkits.axes_grid1 import make_axes_locatable\n",
    "\n",
    "# find segments in the Cape Fear Basin\n",
    "tw = 8835386\n",
    "conn = nhd_network.extract_connections(data, network_data[\"downstream_col\"])\n",
    "rconn = nhd_network.reverse_network(conn)\n",
    "subreachable = nhd_network.reachable(rconn)\n",
    "network_segs = subreachable[tw]\n",
    "\n",
    "# network geodata framee\n",
    "network_gdf = gdf.loc[gdf.index.isin(network_segs)]\n",
    "network_flows = flowveldepth_native.loc[:, (slice(None), \"q\")]\n",
    "\n",
    "@gif.frame\n",
    "def plot(tstep):\n",
    "\n",
    "    first_flow = network_flows.loc[:, ((tstep), \"q\")]\n",
    "\n",
    "    joined_gdf = network_gdf.join(first_flow)\n",
    "    joined_gdf = joined_gdf.rename(columns={joined_gdf.columns[-1]: \"flow\"})\n",
    "\n",
    "    # create a figure showing spatial variations in simulated flow and the lateral flow loading\n",
    "    fig = plt.figure(constrained_layout=True)\n",
    "    gs = fig.add_gridspec(4, 3)\n",
    "    ax1 = fig.add_subplot(gs[0:2, :])  # we will make a map on ax1\n",
    "    ax2 = fig.add_subplot(gs[2:3, :])  # we will make a line plot on ax2\n",
    "\n",
    "    # need to adjust the size and position of the map colorbar\n",
    "    divider = make_axes_locatable(ax1)\n",
    "    cax = divider.append_axes(\"right\", size=\"5%\", pad=0.1)\n",
    "\n",
    "    # plot the spatial variation in simulated flow rate, across all stream segments in the network\n",
    "    joined_gdf.plot(\n",
    "        markersize=0.1,\n",
    "        column=\"flow\",\n",
    "        cmap=\"PuBu\",\n",
    "        legend=True,\n",
    "        vmin=0,\n",
    "        vmax=2000,\n",
    "        ax=ax1,\n",
    "        cax=cax,\n",
    "        legend_kwds={\"label\": \"Flow (cms)\", \"orientation\": \"vertical\"},\n",
    "    )\n",
    "\n",
    "    # map title and axis controls\n",
    "    ax1.set_title(\"Cape Fear River Basin\", size=20)\n",
    "    ax1.axis(\"off\")\n",
    "\n",
    "    # plot the timeseris of lateral inflow loading\n",
    "    qlat_native.iloc[1][0:tstep].plot(ax=ax2, color=\"r\", linewidth=2) \n",
    "    ax2.set_xlim([0, 3600])\n",
    "    ax2.set_ylim([0, 11])\n",
    "    ax2.set_title(\"Lateral Inflow Loading\", size=20)\n",
    "    ax2.set_ylabel(\"Lateral Inflow (cms per node)\", size=14)\n",
    "    ax2.set_xlabel(\"Simulated Timestep\", size=14)\n",
    "\n",
    "    # adjsut the figure size\n",
    "    fig.set_size_inches(10, 10)\n",
    "\n",
    "frames = []\n",
    "for i in range(0, 2025, round(nts / 160)):\n",
    "\n",
    "    frame = plot(i)\n",
    "\n",
    "    frames.append(frame)\n",
    "\n",
    "if ENV_IS_CL:\n",
    "    os.chdir(\"/content/t-route/doc/\")\n",
    "    gif.save(frames, \"cape_fear.gif\", duration=10)\n",
    "\n",
    "else:\n",
    "    gif.save(frames, \"../doc/cape_fear.gif\", duration=10)"
   ]
  },
  {
   "cell_type": "markdown",
   "metadata": {},
   "source": [
    "## A function to reshape simulation output DataFrame "
   ]
  },
  {
   "cell_type": "code",
   "execution_count": null,
   "metadata": {},
   "outputs": [],
   "source": [
    "def reshape_output(flowveldepth, sites, sim_type):\n",
    "    \n",
    "    # Subset model output and reshape dataframe\n",
    "    flows = flowveldepth.loc[sites.values(), (slice(None), \"q\")]\n",
    "    flows = flows.T.reset_index(level = [0,1])\n",
    "\n",
    "    flows.columns = flows.columns.map(str)\n",
    "    \n",
    "    flows.rename(columns = {\"level_0\": \"Timestep\", \"level_1\": \"Parameter\"}, inplace = True)\n",
    "\n",
    "    for key, value in sites.items():\n",
    "        \n",
    "        flows.rename(columns = {str(value): key}, inplace = True)\n",
    "        \n",
    "    flows = flows.melt(id_vars=[\"Timestep\"],\n",
    "                       value_vars = list(sites.keys()),\n",
    "                       var_name=\"City\", \n",
    "                       value_name=\"Flow\")\n",
    "\n",
    "    flows[\"Simulation\"] = sim_type\n",
    "    \n",
    "    return flows"
   ]
  },
  {
   "cell_type": "markdown",
   "metadata": {},
   "source": [
    "## Reshape simulation output"
   ]
  },
  {
   "cell_type": "code",
   "execution_count": null,
   "metadata": {},
   "outputs": [],
   "source": [
    "flows_native = reshape_output(flowveldepth_native, sites, sim_type = \"native\")\n",
    "flows_merged = reshape_output(flowveldepth_merged, sites, sim_type = \"merged\")\n",
    "flows_pruned_merged = reshape_output(flowveldepth_pruned_merged, sites, sim_type = \"pruned/merged\")"
   ]
  },
  {
   "cell_type": "markdown",
   "metadata": {},
   "source": [
    "## Plot simulation results at key sites in the basin, native NHDPlus network"
   ]
  },
  {
   "cell_type": "code",
   "execution_count": null,
   "metadata": {},
   "outputs": [],
   "source": [
    "fig, ax = plt.subplots()\n",
    "for name, group in flows_native.groupby('City'):\n",
    "    group.plot(x=\"Timestep\", y='Flow', ax=ax, label=name)\n",
    "\n",
    "plt.ylabel(\"Flow (cms)\")\n",
    "plt.xlabel(\"Timestep\")\n",
    "plt.title(\"Native network simulation\")\n",
    "plt.xlim([0, 3600])\n",
    "\n",
    "fig = plt.gcf()\n",
    "plt.show()\n",
    "fig.savefig(\"../doc/native_simulation_alltime.png\", bbox_inches='tight')"
   ]
  },
  {
   "cell_type": "markdown",
   "metadata": {},
   "source": [
    "## Compare simulations on the rising limb at two sites: Southport and Wilmington"
   ]
  },
  {
   "cell_type": "code",
   "execution_count": null,
   "metadata": {},
   "outputs": [],
   "source": [
    "df_all_sim = flows_native.append([flows_merged, flows_pruned_merged])\n",
    "\n",
    "# Southport simulation comparison\n",
    "df = df_all_sim.groupby('City').get_group('Southport')\n",
    "fig, ax = plt.subplots()\n",
    "for name, group in df.groupby('Simulation'):\n",
    "    group.plot(x=\"Timestep\", y='Flow', ax=ax, label=name)\n",
    "\n",
    "plt.ylabel(\"Flow (cms)\")\n",
    "plt.xlabel(\"Timestep\")\n",
    "plt.title(\"Southport - near basin outlet\")\n",
    "plt.xlim([0, 1000])\n",
    "plt.show()\n",
    "fig.savefig(\"../doc/southport_rising_limb.png\", bbox_inches='tight')\n",
    "\n",
    "# Wilmington simulation comparison\n",
    "df = df_all_sim.groupby('City').get_group('Wilmington')\n",
    "fig, ax = plt.subplots()\n",
    "for name, group in df.groupby('Simulation'):\n",
    "    group.plot(x=\"Timestep\", y='Flow', ax=ax, label=name)\n",
    "\n",
    "plt.ylabel(\"Flow (cms)\")\n",
    "plt.xlabel(\"Timestep\")\n",
    "plt.title(\"Wilmington - shortest network length\")\n",
    "plt.xlim([0, 1000])\n",
    "plt.show()\n",
    "fig.savefig(\"../doc/wilmington_rising_limb.png\", bbox_inches='tight')\n"
   ]
  }
 ],
 "metadata": {
  "kernelspec": {
   "display_name": "Python 3",
   "language": "python",
   "name": "python3"
  },
  "language_info": {
   "codemirror_mode": {
    "name": "ipython",
    "version": 3
   },
   "file_extension": ".py",
   "mimetype": "text/x-python",
   "name": "python",
   "nbconvert_exporter": "python",
   "pygments_lexer": "ipython3",
   "version": "3.8.2"
  },
  "toc-autonumbering": true
 },
 "nbformat": 4,
 "nbformat_minor": 4
}
